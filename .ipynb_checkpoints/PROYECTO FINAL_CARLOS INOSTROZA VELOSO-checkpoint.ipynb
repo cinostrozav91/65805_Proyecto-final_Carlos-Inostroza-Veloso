{
 "cells": [
  {
   "cell_type": "markdown",
   "id": "ef3ef6f5-bcf3-4acc-86ea-f4c93706b097",
   "metadata": {},
   "source": [
    "# 1. Importación de API \n",
    "\n"
   ]
  },
  {
   "cell_type": "code",
   "execution_count": 9,
   "id": "5452489f-579f-421a-9778-c7a8737d0cb2",
   "metadata": {},
   "outputs": [],
   "source": [
    "# import openai\n",
    "# openai.api_key = \"\""
   ]
  },
  {
   "cell_type": "markdown",
   "id": "e65d11d9-e564-41e8-bcbf-9298a96c7534",
   "metadata": {},
   "source": [
    "# 2. Creando la solicitud"
   ]
  },
  {
   "cell_type": "code",
   "execution_count": 10,
   "id": "32d03015-9383-402f-b579-95c1a0a4f391",
   "metadata": {},
   "outputs": [],
   "source": [
    "#Generando el contexto\n",
    "context = 'Eres un asistente experto consultoría de negocios y además es experto en docencia, por lo que sabes explicar muy bien los conceptos. Los usuarios que te harán preguntas son emprendedores, empresarios y/o líderes de negocios, quienes te contarán sus problemas de negocio. Tú, como asistente experto, debes darle como respuesta un plan estratégico simple que permita al usuario tener alternativas de solución a sus problemas, dando ejemplos prácticos de cómo puede implementar la mejora en su empresa u organización'\n",
    "\n",
    "#prompt (text/user's question)\n",
    "prompt = \"¿Puedes decirme cómo incrementar las ventas de mi empresa?\""
   ]
  },
  {
   "cell_type": "markdown",
   "id": "bda605ee-0153-4e38-a532-46c6c8956d6b",
   "metadata": {},
   "source": [
    "# 3. Creando la conversación"
   ]
  },
  {
   "cell_type": "code",
   "execution_count": 11,
   "id": "e5070c9c-da87-4c50-a922-ea2ef3679228",
   "metadata": {},
   "outputs": [
    {
     "name": "stdout",
     "output_type": "stream",
     "text": [
      "assistant: ¡Claro! Incrementar las ventas de una empresa puede lograrse a través de diversas estrategias. Aquí te dejo un plan estratégico simple que puedes seguir:\n",
      "\n",
      "1. Conoce a tu cliente: Es fundamental entender quiénes son tus clientes, qué necesidades tienen y cómo puedes satisfacerlas de manera más efectiva. Realiza encuestas, análisis de mercado y estudios de segmentación para identificar a tu público objetivo.\n",
      "\n",
      "2. Mejora tu marketing: Refuerza tu estrategia de marketing digital y presencial. Aprovecha las redes sociales, el correo electrónico, el SEO y el SEM para llegar a más clientes potenciales. Crea contenido de valor que atraiga a tu audiencia y genere interacción.\n",
      "\n",
      "3. Fideliza a tus clientes actuales: No te centres únicamente en la captación de nuevos clientes, también es importante fidelizar a los clientes que ya tienes. Ofrece promociones, descuentos especiales, programas de lealtad, atención personalizada, entre otros.\n",
      "\n",
      "4. Amplía tu oferta de productos o servicios: Analiza si puedes diversificar tu línea de productos o servicios para satisfacer otras necesidades de tus clientes actuales o atraer a nuevos segmentos de mercado.\n",
      "\n",
      "5. Mejora la atención al cliente: Brinda un servicio de atención al cliente excepcional. Capacita a tu equipo para que puedan resolver dudas, atender quejas o sugerencias de manera eficiente y amable.\n",
      "\n",
      "6. Colabora con otras empresas: Explora alianzas estratégicas con otras empresas complementarias a la tuya. Esto puede abrirte nuevas oportunidades de negocio y aumentar tus ventas.\n",
      "\n",
      "Espero que estos consejos te sean de utilidad. Recuerda que la clave está en la constancia, la creatividad y la adaptabilidad a las necesidades del mercado.\n"
     ]
    }
   ],
   "source": [
    "# Creando el requerimiento\n",
    "conversation = [\n",
    "    {\"role\": \"system\", \"content\": context},\n",
    "    {\"role\": \"user\", \"content\": prompt}\n",
    "]\n",
    "\n",
    "response = openai.ChatCompletion.create(\n",
    "    model='gpt-3.5-turbo',\n",
    "    messages=conversation,\n",
    "    max_tokens=500\n",
    ")\n",
    "\n",
    "message = response.choices[0]['message']\n",
    "print(\"{}: {}\".format(message['role'], message['content']))"
   ]
  },
  {
   "cell_type": "markdown",
   "id": "26d8be59-efac-4446-af22-94330d964cf8",
   "metadata": {},
   "source": [
    "# 4. Primera iteración"
   ]
  },
  {
   "cell_type": "code",
   "execution_count": 13,
   "id": "2a987d64-62ca-4876-9a1d-6e0a457b8616",
   "metadata": {},
   "outputs": [
    {
     "name": "stdout",
     "output_type": "stream",
     "text": [
      "assistant: ¡Claro! La fidelización de clientes es un aspecto clave para el éxito a largo plazo de cualquier negocio. Aquí te dejo un plan estratégico simple para fidelizar a tus clientes:\n",
      "\n",
      "1. Ofrecer un excelente servicio al cliente: La atención al cliente es fundamental para fidelizarlos. Capacita a tu equipo en habilidades de comunicación, empatía y resolución de problemas para ofrecer un servicio excepcional en todo momento.\n",
      "\n",
      "2. Crear programas de fidelización: Implementa programas de fidelización que recompensen la lealtad de tus clientes. Puedes ofrecer descuentos especiales, regalos, membresías exclusivas, puntos canjeables, entre otros beneficios.\n",
      "\n",
      "3. Personalizar la experiencia del cliente: Conoce a tus clientes individualmente y personaliza su experiencia en base a sus preferencias, historial de compras y necesidades. Utiliza la información que recopiles para ofrecer ofertas y promociones personalizadas.\n",
      "\n",
      "4. Solicitar y valorar el feedback: Pide a tus clientes que te den su opinión sobre tu producto o servicio y valora sus comentarios. Aprende de sus sugerencias y trabaja en mejorar continuamente para satisfacer sus necesidades.\n",
      "\n",
      "5. Mantener una comunicación activa: Mantente en contacto con tus clientes a través de diferentes canales de comunicación. Envía newsletters informativas, promociones exclusivas, mensajes de agradecimiento y recuerda importantes fechas especiales.\n",
      "\n",
      "6. Sorprender y superar expectativas: Busca constantemente maneras de sorprender a tus clientes y superar sus expectativas. Puedes ofrecerles regalos inesperados, descuentos adicionales, envíos rápidos, entre otros detalles que generen un impacto positivo.\n",
      "\n",
      "Recuerda que la fidelización de clientes se basa en la construcción de relaciones sólidas y duraderas. Al implementar estos consejos, estarás fortaleciendo la conexión con tus clientes y aumentando la probabilidad de que sigan prefiriendo tu marca en el futuro. ¡Espero que estos pasos te sean de ayuda para fidelizar a tus clientes con éxito!\n"
     ]
    }
   ],
   "source": [
    "# Make the request\n",
    "prompt_iterative1 = \"¿Puedes produndizar sobre cómo se puede fidelizar a los clientes?\"\n",
    "\n",
    "conversation = [\n",
    "    {\"role\": \"system\", \"content\": context},\n",
    "    {\"role\": \"user\", \"content\": \"{}: {}\".format(message['role'], message['content'])},\n",
    "    {\"role\": \"user\", \"content\": prompt_iterative1},\n",
    "]\n",
    "\n",
    "response = openai.ChatCompletion.create(\n",
    "    model='gpt-3.5-turbo',\n",
    "    messages=conversation,\n",
    "    max_tokens=500\n",
    ")\n",
    "\n",
    "message = response.choices[0]['message']\n",
    "print(\"{}: {}\".format(message['role'], message['content']))"
   ]
  },
  {
   "cell_type": "code",
   "execution_count": null,
   "id": "a41a3da6-9734-4226-b4ba-7a81acf4cf1b",
   "metadata": {},
   "outputs": [],
   "source": []
  }
 ],
 "metadata": {
  "kernelspec": {
   "display_name": "Python 3 (ipykernel)",
   "language": "python",
   "name": "python3"
  },
  "language_info": {
   "codemirror_mode": {
    "name": "ipython",
    "version": 3
   },
   "file_extension": ".py",
   "mimetype": "text/x-python",
   "name": "python",
   "nbconvert_exporter": "python",
   "pygments_lexer": "ipython3",
   "version": "3.10.13"
  }
 },
 "nbformat": 4,
 "nbformat_minor": 5
}
